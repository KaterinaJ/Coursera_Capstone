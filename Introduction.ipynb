{
    "cells": [
        {
            "cell_type": "markdown",
            "metadata": {
                "collapsed": true
            },
            "source": "# Capstone Project"
        },
        {
            "cell_type": "markdown",
            "metadata": {},
            "source": "## 1. Description"
        },
        {
            "cell_type": "markdown",
            "metadata": {},
            "source": "*Determine the Problem*"
        },
        {
            "cell_type": "markdown",
            "metadata": {},
            "source": "For this assignment, we are required to define our own questions using the knowledge of API and location data to analyze the realistic problems. The ploblem I choose is how to choose a good restaurant and a place for fun for a student in University of Toronto to spend weekend time. It is because I am a university student now that this problem is highly correlated with my daily life, so solving this problems may be realistic to the sutdents like me. Moreover, as we clustered Toronto in previous weeks, I took university of Toronto as an example."
        },
        {
            "cell_type": "markdown",
            "metadata": {},
            "source": "*Describe the Data*"
        },
        {
            "cell_type": "markdown",
            "metadata": {},
            "source": "The data required for this assignment can be acquired by Foursquare API--the geographical location and the ratings of restaurants. It is necessary to cluster Totonto and find the best place for students to go in Toronto. Wikipedia can provide the postal codes, https://en.wikipedia.org/wiki/List_of_postal_codes_of_Canada:_M and the geographical coordinates--latitutudes and longitudes of each neighborhood--can be acquired from the link,  http://cocl.us/Geospatial_data. The data should be cleaned and modified and then construct a dataframe to analyze the problem."
        }
    ],
    "metadata": {
        "kernelspec": {
            "display_name": "Python 3.7",
            "language": "python",
            "name": "python3"
        },
        "language_info": {
            "codemirror_mode": {
                "name": "ipython",
                "version": 3
            },
            "file_extension": ".py",
            "mimetype": "text/x-python",
            "name": "python",
            "nbconvert_exporter": "python",
            "pygments_lexer": "ipython3",
            "version": "3.7.9"
        }
    },
    "nbformat": 4,
    "nbformat_minor": 1
}